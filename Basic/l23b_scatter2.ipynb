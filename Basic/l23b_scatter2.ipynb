{
 "cells": [
  {
   "cell_type": "code",
   "execution_count": 2,
   "metadata": {},
   "outputs": [],
   "source": [
    "import pandas as pd\n",
    "import matplotlib.pyplot as plt\n",
    "import ast\n",
    "from datasets import load_dataset\n",
    "\n",
    "dataset = load_dataset('lukebarousse/data_jobs')\n",
    "df = dataset['train'].to_pandas()\n",
    "\n",
    "df['job_posted_date'] = pd.to_datetime(df['job_posted_date'])\n",
    "\n",
    "df['job_posted_month'] = df['job_posted_date'].dt.strftime('%B')\n",
    "\n",
    "df['job_skills'] = df['job_skills'].apply(lambda x: ast.literal_eval(x) if pd.notna(x) else (x))\n"
   ]
  },
  {
   "cell_type": "code",
   "execution_count": 3,
   "metadata": {},
   "outputs": [],
   "source": [
    "df = df[df['job_title_short'] == 'Data Analyst']\n",
    "\n",
    "dfe = df.explode('job_skills')\n",
    "skill_stats = dfe.groupby('job_skills').agg(\n",
    "    skill_count=('job_skills', 'count'),\n",
    "    median_salary =('salary_year_avg', 'median')\n",
    ")\n",
    "\n",
    "skill_count = 20\n",
    "skill_stats = skill_stats.sort_values('skill_count', ascending=False).head(skill_count)\n"
   ]
  },
  {
   "cell_type": "code",
   "execution_count": null,
   "metadata": {},
   "outputs": [],
   "source": [
    "from adjustText import adjust_text\n",
    "\n",
    "skill_stats.plot(kind='scatter', x='skill_count', y='median_salary')\n",
    "\n",
    "plt.xlabel('Skill Count')\n",
    "plt.ylabel('Median Salary')\n",
    "plt.title('PLOTUEMO LOL')\n",
    "\n",
    "\n",
    "texts = []\n",
    "for i, txt in enumerate(skill_stats.index):\n",
    "    texts.append(plt.text(skill_stats['skill_count'].iloc[i], skill_stats['median_salary'].iloc[i], txt))\n",
    "\n",
    "adjust_text(texts, arrowprops = dict(arrowstyle=\"->\", color='gray', lw=1))\n",
    "\n",
    "ax=plt.gca()\n",
    "ax.yaxis.set_major_formatter(plt.FuncFormatter())\n",
    "\n",
    "\n",
    "plt.tight_layout()\n",
    "plt.show()"
   ]
  }
 ],
 "metadata": {
  "kernelspec": {
   "display_name": "Python 3",
   "language": "python",
   "name": "python3"
  },
  "language_info": {
   "codemirror_mode": {
    "name": "ipython",
    "version": 3
   },
   "file_extension": ".py",
   "mimetype": "text/x-python",
   "name": "python",
   "nbconvert_exporter": "python",
   "pygments_lexer": "ipython3",
   "version": "3.11.11"
  }
 },
 "nbformat": 4,
 "nbformat_minor": 2
}
